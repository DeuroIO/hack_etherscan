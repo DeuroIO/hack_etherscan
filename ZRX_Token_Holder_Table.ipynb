{
 "cells": [
  {
   "cell_type": "markdown",
   "metadata": {
    "deletable": true,
    "editable": true
   },
   "source": [
    "## make column wider"
   ]
  },
  {
   "cell_type": "code",
   "execution_count": 1,
   "metadata": {
    "collapsed": false,
    "deletable": true,
    "editable": true
   },
   "outputs": [
    {
     "data": {
      "text/html": [
       "<style>.container { width:100% !important; }</style>"
      ],
      "text/plain": [
       "<IPython.core.display.HTML object>"
      ]
     },
     "metadata": {},
     "output_type": "display_data"
    }
   ],
   "source": [
    "from IPython.core.display import display, HTML\n",
    "display(HTML(\"<style>.container { width:100% !important; }</style>\"))"
   ]
  },
  {
   "cell_type": "code",
   "execution_count": 5,
   "metadata": {
    "collapsed": false,
    "deletable": true,
    "editable": true
   },
   "outputs": [],
   "source": [
    "from zero0 import read_csv,generate_table,generate_token_holder_table\n",
    "all_the_records,top_timestamp_token_holder_dict = read_csv()"
   ]
  },
  {
   "cell_type": "markdown",
   "metadata": {
    "deletable": true,
    "editable": true
   },
   "source": [
    "### Top 50 Token Tx"
   ]
  },
  {
   "cell_type": "code",
   "execution_count": 6,
   "metadata": {
    "collapsed": false,
    "deletable": true,
    "editable": true
   },
   "outputs": [
    {
     "name": "stdout",
     "output_type": "stream",
     "text": [
      "2017-06-09 00:00:00\n",
      "1\t0x2f1b1f535e0965ac474954938afbf5536441d4a3\t986,037\t0.19720751943999998%\n",
      "2\t0xc91795a59f20027848bc785678b53875934792a1\t440,100\t0.08802%\n",
      "3\t0xbe8825088669c553bb1de992bb4fcc39791a820d\t369,471\t0.07389436008%\n",
      "4\t0x642aa1c608c3ac96657df42fa587825e323e3b83\t315,532\t0.06310640622000001%\n",
      "5\t0x642aa1c608c3ac96657df42fa587825e323e3b83\t305,119\t0.06102389482%\n",
      "6\t0x19604e7b45f67ad0e9937d81ce684551baad8e49\t279,222\t0.055844501760000005%\n",
      "7\t0xe896d9cb25fa8ccaf8da0fc3d28a9b5c423c4d15\t259,101\t0.051820297779999996%\n",
      "8\t0x00cfed8dd09c046d98dd0db3d601947c12f5ee44\t259,101\t0.051820297779999996%\n",
      "9\t0xfb18e505b5706db7c9886ae301f7d79595a5b915\t256,026\t0.05120521652%\n",
      "10\t0x5e575279bf9f4acf0a130c186861454247394c06\t236,000\t0.0472%\n",
      "11\t0x0f4d30c225edfa027aaec7cdd14d62e4781506b8\t236,000\t0.0472%\n",
      "12\t0x5e575279bf9f4acf0a130c186861454247394c06\t195,370\t0.0390740701%\n",
      "13\t0x0141184e2bc5946ab89bbf158ca31b10e30c51c8\t195,370\t0.0390740701%\n",
      "14\t0x5ed51eb964acd313d42debf0b481854cd6850df1\t192,000\t0.0384%\n",
      "15\t0xe10d8f6d2c57fd91598fd7c6b4c200d85ba125db\t183,180\t0.03663605306%\n",
      "16\t0x642aa1c608c3ac96657df42fa587825e323e3b83\t125,102\t0.02502041974%\n",
      "17\t0x5e575279bf9f4acf0a130c186861454247394c06\t100,040\t0.02000814774%\n",
      "18\t0x6fe0ac13f9a9d0d0e526a7822b0b307fe170602d\t100,000\t0.02000014774%\n",
      "19\t0x0489076a0d17394835af93cd62acff703b6814a9\t99,999\t0.019999999002%\n",
      "20\t0xc453ee449e45e99d8a24f9c3880b1e3ea9f89ab1\t98,983\t0.0197966592%\n",
      "21\t0xead6be34ce315940264519f250d8160f369fa5cd\t90,000\t0.018%\n",
      "22\t0xd822b36fa15d64bb89e12f4d1db784511957dcb0\t90,000\t0.018%\n",
      "23\t0xb65c4f1fe6ed8a3f329c7e4214720af1dd196663\t89,999\t0.017999999%\n",
      "24\t0xffe38ba0210772ce0e37bbcf4ef4e98721360135\t89,999\t0.017999999%\n",
      "25\t0xead6be34ce315940264519f250d8160f369fa5cd\t86,614\t0.0173228%\n",
      "26\t0xd822b36fa15d64bb89e12f4d1db784511957dcb0\t86,614\t0.0173228%\n",
      "27\t0x357ec6d5f04d075b183ce4ef9619efe314ec6438\t83,355\t0.016671031229999998%\n",
      "28\t0xead6be34ce315940264519f250d8160f369fa5cd\t78,881\t0.015776340859999998%\n",
      "29\t0x4cd49ef1ec336e06506e7498642c397dcb814a9b\t76,344\t0.015268998999999998%\n",
      "30\t0xead6be34ce315940264519f250d8160f369fa5cd\t75,887\t0.0151774%\n",
      "31\t0xd822b36fa15d64bb89e12f4d1db784511957dcb0\t75,887\t0.0151774%\n",
      "32\t0x5e575279bf9f4acf0a130c186861454247394c06\t74,522\t0.01490448652%\n",
      "33\t0x1af64db7db019367ccb0e72dfd7064810836f8da\t74,522\t0.01490448652%\n",
      "34\t0x8f53518d306cd730652b166005aaaa1f1dd0c137\t72,178\t0.014435795999999999%\n",
      "35\t0xead6be34ce315940264519f250d8160f369fa5cd\t71,467\t0.014293590200000001%\n",
      "36\t0x1c170e77a71ad12ca7055cfc1aab23e825304a7d\t71,467\t0.014293590200000001%\n",
      "37\t0xd1ee9bc1b7f56174b0608b6b3101287058f5b7f9\t69,350\t0.013870108893999998%\n",
      "38\t0xd1ee9bc1b7f56174b0608b6b3101287058f5b7f9\t68,086\t0.013617325602%\n",
      "39\t0x2ebeb7554d97101ce33f2e7b511b236661848fac\t62,169\t0.012433864166%\n",
      "40\t0x4cd49ef1ec336e06506e7498642c397dcb814a9b\t58,578\t0.011715799%\n",
      "41\t0xead6be34ce315940264519f250d8160f369fa5cd\t58,347\t0.0116694%\n",
      "42\t0xd822b36fa15d64bb89e12f4d1db784511957dcb0\t58,347\t0.0116694%\n",
      "43\t0x41537825601c777b8ee323ff004d4978de525d5d\t57,299\t0.0114598%\n",
      "44\t0x8130587fba11e84c3924115ef4871c4591b364ef\t57,299\t0.0114598%\n",
      "45\t0xead6be34ce315940264519f250d8160f369fa5cd\t55,851\t0.011170302929999999%\n",
      "46\t0xb4be7b6dce5f77c0582b99dd1c1e3d1a9a83c30d\t55,851\t0.011170302929999999%\n",
      "47\t0xb123c4381c43a1c3a16e2661037419570dc1ba80\t55,330\t0.01106610251%\n",
      "48\t0x4cd49ef1ec336e06506e7498642c397dcb814a9b\t54,240\t0.010848199000000001%\n",
      "49\t0xead6be34ce315940264519f250d8160f369fa5cd\t51,968\t0.0103936%\n",
      "50\t0xd822b36fa15d64bb89e12f4d1db784511957dcb0\t51,968\t0.0103936%\n"
     ]
    }
   ],
   "source": [
    "generate_table(all_the_records,\"6/9/2017 21:14\")"
   ]
  },
  {
   "cell_type": "markdown",
   "metadata": {},
   "source": [
    "## Top 50 Token Holder Balance"
   ]
  },
  {
   "cell_type": "code",
   "execution_count": 7,
   "metadata": {
    "collapsed": false,
    "deletable": true,
    "editable": true
   },
   "outputs": [
    {
     "name": "stdout",
     "output_type": "stream",
     "text": [
      "2017-08-20 00:00:00\n",
      "1\t0xd4fd252d7d2c9479a8d616f510eac6243b5dddf9\t496,485,243\n",
      "2\t0x8d12a197cb00d4747a1fe03395095ce2a5cc6819\t108,051,886\n",
      "3\t0xead6be34ce315940264519f250d8160f369fa5cd\t101,664,958\n",
      "4\t0x5e575279bf9f4acf0a130c186861454247394c06\t78,876,727\n",
      "5\t0xe4abc54f5a6288b60c18b361442a151fc4911da6\t32,232,142\n",
      "6\t0x94d4a0de64654e534930dba01e26fa4e6cc72bc9\t32,222,313\n",
      "7\t0x15cc6e65fba20b3267a81c74b3fec1e86fc6e100\t16,000,000\n",
      "8\t0xdcb5aff96dfd0775e345d9294abdb63d5da97b59\t14,000,000\n",
      "9\t0xfff1c781d5120b5c90faaf78d5180f371bdb1dfc\t7,730,534\n",
      "10\t0x5ff1a93e5832bf5ddf57f620ac89f9335a59174f\t6,291,163\n",
      "11\t0xcca71809e8870afeb72c4720d0fe50d5c3230e05\t4,839,441\n",
      "12\t0x5f02530d1a3f40c46d5904b6e144cea54f1b5186\t4,562,266\n",
      "13\t0x93c0d481caa8a5dd3b0e46e2e2b06a9a29fd95b5\t4,504,077\n",
      "14\t0x77bd7039f014d4de2306e43a9d6c5b8e058f319c\t4,387,216\n",
      "15\t0xc60515f9971167b594c7199ded22343a9e78012e\t4,266,461\n",
      "16\t0x15b461a6feb382c9a8fabbbdfc74d1415360b526\t3,825,825\n",
      "17\t0x4cd49ef1ec336e06506e7498642c397dcb814a9b\t3,744,460\n",
      "18\t0x4241ed4f7ea8fae6301765306c8c2f8c5fbf527d\t3,201,251\n",
      "19\t0x1d37d2d1c2809c238fa5f94e8b2c17b4431ff84c\t3,194,761\n",
      "20\t0x36377cc68f6a7be22c191c45464d20a09027b220\t3,185,331\n",
      "21\t0x00dc4d71d3be813d8de3e226d2e74714fb1b0dad\t3,066,531\n",
      "22\t0x198ef1ec325a96cc354c7266a038be8b5c558f67\t2,917,040\n",
      "23\t0x541efe87c996d2200b9eed208e844f9bec03404e\t2,791,173\n",
      "24\t0x820a66746842b4b70d16a3b77ec190ad3576581d\t2,720,860\n",
      "25\t0x69ea6b31ef305d6b99bb2d4c9d99456fa108b02a\t2,627,876\n",
      "26\t0x02a2d256afda01441e330ffd4e02e70288f097ea\t2,540,535\n",
      "27\t0xfe23cceaf0b4578ce63ed7482da99f59c8dd56fa\t2,488,008\n",
      "28\t0x55a3df57b7aaec16a162fd5316f35bec082821cf\t2,462,499\n",
      "29\t0x48ca226bf3934d2edc81f86dedb6817b4ef5748d\t2,369,134\n",
      "30\t0x522d12749e372325e9f0bc51774c6fd18dafb461\t2,326,249\n",
      "31\t0xfa45c6991a2c3d74ada3a279e21135133ce3da8a\t2,127,832\n",
      "32\t0x91a4de919e69606590b963f137468dfb2c68a299\t2,000,000\n",
      "33\t0xa2b43b422e7fd9f469301174bbbaaa20ac39fa83\t1,809,990\n",
      "34\t0x00e3556581c667e186bacb008f0be55289642958\t1,774,867\n",
      "35\t0xc7da94616b488bf9f925fc8cced5cb0fe1c90eb7\t1,748,869\n",
      "36\t0x97e42dec1573d8f4b0b45597ad0cdcf7155430bc\t1,694,867\n",
      "37\t0x57ff133ad1311d27a45fb82c79adb1c2882c1ef2\t1,641,666\n",
      "38\t0x16adc561fa16b82b0df1f5fdc95a65f5b4f844b8\t1,639,441\n",
      "39\t0x0049fab7f5dd1f26f057bd5d972ffc6ba3c349dd\t1,562,564\n",
      "40\t0x444e01dcb3a1ec1b1aa1344505ed7c8690d53281\t1,538,218\n",
      "41\t0x7ad50cbf3d8385b79a915d380f833453c9d8a289\t1,500,000\n",
      "42\t0xe0f41026d63ce019ecaf8c50dda2d6fea682ba6b\t1,498,778\n",
      "43\t0x3d75379660954704925eb664dc9b4e60273057f7\t1,487,450\n",
      "44\t0xd822b36fa15d64bb89e12f4d1db784511957dcb0\t1,485,495\n",
      "45\t0xd71b699358851f3cdf25a40206d7ffe69f878f18\t1,482,724\n",
      "46\t0xca83fc54849e9a200b4401134b391e83b8d03acf\t1,472,666\n",
      "47\t0x75d27075d8d9aa87e54f05a07a52c5a117436cc7\t1,459,151\n",
      "48\t0xe9d31d832332a708ca1ff4c2eae10017e1713b17\t1,459,087\n",
      "49\t0x681aefa75c0f3b26bf052b2869ce3bb12d7930d2\t1,400,000\n",
      "50\t0xb259aa92c97fbaa9001ba213680034f1d5c4c777\t1,333,247\n"
     ]
    }
   ],
   "source": [
    "generate_token_holder_table(top_timestamp_token_holder_dict,\"20/8/2017 00\")"
   ]
  },
  {
   "cell_type": "code",
   "execution_count": null,
   "metadata": {
    "collapsed": true,
    "deletable": true,
    "editable": true
   },
   "outputs": [],
   "source": []
  }
 ],
 "metadata": {
  "kernelspec": {
   "display_name": "Python 3",
   "language": "python",
   "name": "python3"
  },
  "language_info": {
   "codemirror_mode": {
    "name": "ipython",
    "version": 3
   },
   "file_extension": ".py",
   "mimetype": "text/x-python",
   "name": "python",
   "nbconvert_exporter": "python",
   "pygments_lexer": "ipython3",
   "version": "3.6.1"
  }
 },
 "nbformat": 4,
 "nbformat_minor": 2
}
