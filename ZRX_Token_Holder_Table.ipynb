{
 "cells": [
  {
   "cell_type": "markdown",
   "metadata": {
    "deletable": true,
    "editable": true
   },
   "source": [
    "## make column wider"
   ]
  },
  {
   "cell_type": "code",
   "execution_count": 1,
   "metadata": {
    "collapsed": false,
    "deletable": true,
    "editable": true
   },
   "outputs": [
    {
     "data": {
      "text/html": [
       "<style>.container { width:100% !important; }</style>"
      ],
      "text/plain": [
       "<IPython.core.display.HTML object>"
      ]
     },
     "metadata": {},
     "output_type": "display_data"
    }
   ],
   "source": [
    "from IPython.core.display import display, HTML\n",
    "display(HTML(\"<style>.container { width:100% !important; }</style>\"))"
   ]
  },
  {
   "cell_type": "code",
   "execution_count": 2,
   "metadata": {
    "collapsed": true,
    "deletable": true,
    "editable": true
   },
   "outputs": [],
   "source": [
    "from zero0 import read_csv,parse_time_to_hour,generate_table\n",
    "all_the_records = read_csv()"
   ]
  },
  {
   "cell_type": "markdown",
   "metadata": {
    "deletable": true,
    "editable": true
   },
   "source": [
    "### minute will be ignored"
   ]
  },
  {
   "cell_type": "code",
   "execution_count": 3,
   "metadata": {
    "collapsed": false,
    "deletable": true,
    "editable": true
   },
   "outputs": [
    {
     "name": "stdout",
     "output_type": "stream",
     "text": [
      "2017-06-09 21:00:00\n",
      "1\t0xd1ee9bc1b7f56174b0608b6b3101287058f5b7f9\t68086.62801\t0.013617325602%\n",
      "2\t0xd1ee9bc1b7f56174b0608b6b3101287058f5b7f9\t38545.2082\t0.00770904164%\n",
      "3\t0x0532ef0f00392f73c0460199ae81bf01274fc8df\t20606.12361\t0.0041212247219999994%\n",
      "4\t0xead6be34ce315940264519f250d8160f369fa5cd\t13602.31093\t0.002720462186%\n",
      "5\t0xde16213bbbd4fcef639cfaa563a0066dde98ac31\t13602.31093\t0.002720462186%\n",
      "6\t0xbb556ccba4f044ee0f68b64eca9713eefba15af9\t11378.8901\t0.00227577802%\n",
      "7\t0x261a6df99578fe8497d08cdacb332f41ea1d090c\t6659.014834\t0.0013318029667999999%\n",
      "8\t0x96002c6fd7a1989e87f6e147e591447cc855b44f\t6404.999542\t0.0012809999083999999%\n",
      "9\t0x32487c9c6c50b0d1d36e3d1df084313519a60125\t5000.0\t0.001%\n",
      "10\t0x5e575279bf9f4acf0a130c186861454247394c06\t4500.0\t0.0009%\n",
      "11\t0x1b10b1233279f86e1b615be9e2e78ff6108f90f2\t4500.0\t0.0009%\n",
      "12\t0x94d4a0de64654e534930dba01e26fa4e6cc72bc9\t4186.5965\t0.0008373192999999999%\n",
      "13\t0x73dece114eea5a4ea401d2c75285eeb9d414a3a5\t4186.5965\t0.0008373192999999999%\n",
      "14\t0xead6be34ce315940264519f250d8160f369fa5cd\t4051.354\t0.0008102707999999999%\n",
      "15\t0x5e575279bf9f4acf0a130c186861454247394c06\t4000.0\t0.0008%\n",
      "16\t0x1b10b1233279f86e1b615be9e2e78ff6108f90f2\t4000.0\t0.0008%\n",
      "17\t0xa2d14e65719c07c215d2d55e6cfe3a56a03d1880\t3994.343142\t0.0007988686284%\n",
      "18\t0xea4b003d2b26e269b5ebe025dbc1affe070a7a57\t2880.0\t0.000576%\n",
      "19\t0x6ed97345597c4c2086cdd4ed94aa8f9a2d03aad6\t2675.54194\t0.000535108388%\n",
      "20\t0xaaec5c97857df6a37008ddd1d8f3b09f7b348e1a\t2000.0\t0.0004%\n",
      "21\t0x2b06e2ea21e184589853225888c93b9b8e0642f6\t1799.995\t0.00035999899999999995%\n",
      "22\t0x2b06e2ea21e184589853225888c93b9b8e0642f6\t1681.725069\t0.00033634501380000003%\n",
      "23\t0x8d12a197cb00d4747a1fe03395095ce2a5cc6819\t1609.351\t0.00032187020000000005%\n",
      "24\t0x3055f34308f8da5d7f2414e94aa85cdbdc2c3fc9\t1543.616169\t0.0003087232338%\n",
      "25\t0xead6be34ce315940264519f250d8160f369fa5cd\t1044.519528\t0.0002089039056%\n",
      "26\t0x3e08e74dc3fc6415b104bc7e276b8e26a57a3a83\t1044.519528\t0.0002089039056%\n",
      "27\t0x2b06e2ea21e184589853225888c93b9b8e0642f6\t999.995\t0.000199999%\n",
      "28\t0x33ad50c0a1883bcda8af9d26a8c1ce25d5aed683\t908.5478388\t0.00018170956776000002%\n",
      "29\t0x33ad50c0a1883bcda8af9d26a8c1ce25d5aed683\t799.995\t0.000159999%\n",
      "30\t0x9bb102e9d2635d6d7143c1df003df20d7faf7c82\t668.2845282\t0.00013365690564%\n",
      "31\t0x02d446eff59dea23406cea26ffae641a8adaa5fe\t618.821154\t0.0001237642308%\n",
      "32\t0x571ac65de0b2e26eb7216e229c3972c7fad072d6\t500.0\t0.0001%\n",
      "33\t0x3c48b1129d2978e4a3d7a0ef8b83df2aaba8478a\t424.286\t8.48572e-05%\n",
      "34\t0x5e575279bf9f4acf0a130c186861454247394c06\t424.286\t8.48572e-05%\n",
      "35\t0x2e16d58137b6de8b6ebc263741e1b10cdc7b5e25\t424.286\t8.48572e-05%\n",
      "36\t0xb7d954ce552b320b4998546e4d3e3c3b7d6de0c1\t413.6873935\t8.27374787e-05%\n",
      "37\t0x614031f6a4a6b93adb2b822ad1b9d7ca8770aee7\t269.435\t5.3887e-05%\n",
      "38\t0xacb61b83aa858bd806623fc74d7aaf95fe037728\t230.5851859\t4.611703718e-05%\n",
      "39\t0x855d1acfd8d15ef62a5a6f626acf49665dd6f5cd\t187.0\t3.74e-05%\n",
      "40\t0x34f2426c01cc06a71a234c3d1e0e6d8dd326ecea\t149.62\t2.9924e-05%\n",
      "41\t0xedf1240aacfc6a085e80386f5ebf3ad8f7cc6634\t105.9377269\t2.118754538e-05%\n",
      "42\t0x67f9aa74fe5863a36892c478d1f87601f6a9cfb3\t54.57\t1.0914000000000001e-05%\n",
      "43\t0x49546cd026e9f3b176890458cfbabd6d520af948\t37.34656548\t7.469313096000001e-06%\n",
      "44\t0xead6be34ce315940264519f250d8160f369fa5cd\t16.75814321\t3.351628642e-06%\n",
      "45\t0xc05c969e6227871cdb8bb315c444e81a9d0bf378\t16.75814321\t3.351628642e-06%\n",
      "46\t0x3055f34308f8da5d7f2414e94aa85cdbdc2c3fc9\t9.995\t1.999e-06%\n",
      "47\t0x8d12a197cb00d4747a1fe03395095ce2a5cc6819\t6.0\t1.2e-06%\n",
      "48\t0xead6be34ce315940264519f250d8160f369fa5cd\t2.0\t4e-07%\n",
      "49\t0x42f22be1df0ef10c702ed563f88586233d2c7048\t2.0\t4e-07%\n",
      "50\t0xead6be34ce315940264519f250d8160f369fa5cd\t0.121\t2.4199999999999998e-08%\n"
     ]
    }
   ],
   "source": [
    "generate_table(all_the_records,\"6/9/2017 21:14\")"
   ]
  },
  {
   "cell_type": "code",
   "execution_count": 4,
   "metadata": {
    "collapsed": false,
    "deletable": true,
    "editable": true
   },
   "outputs": [
    {
     "name": "stdout",
     "output_type": "stream",
     "text": [
      "2017-08-20 00:00:00\n",
      "1\t0xead6be34ce315940264519f250d8160f369fa5cd\t16000000.0\t3.2%\n",
      "2\t0x15cc6e65fba20b3267a81c74b3fec1e86fc6e100\t16000000.0\t3.2%\n",
      "3\t0x159fd8953d5816b3498a3c5a1d993bf7d4616b29\t820833.333\t0.16416666659999998%\n",
      "4\t0xead6be34ce315940264519f250d8160f369fa5cd\t400000.0\t0.08%\n",
      "5\t0x522d12749e372325e9f0bc51774c6fd18dafb461\t400000.0\t0.08%\n",
      "6\t0xead6be34ce315940264519f250d8160f369fa5cd\t200000.0\t0.04%\n",
      "7\t0xbf1ed5997d7c87bc9ada0d08b281bd4eb7a4578a\t200000.0\t0.04%\n",
      "8\t0xb4d997342691bccc504caddfd72aaf70390dd763\t195013.0812\t0.039002616239999996%\n",
      "9\t0xead6be34ce315940264519f250d8160f369fa5cd\t159995.9416\t0.03199918832%\n",
      "10\t0x7aa6ed734c33f505b191d2c927d9dd6d906bba88\t159995.9416\t0.03199918832%\n",
      "11\t0x99fb842beda0062654952ea103e25448b83db231\t129995.84\t0.025999168%\n",
      "12\t0x00febfc7be373f8088182850feca034dda8b7a67\t116511.4264\t0.023302285279999998%\n",
      "13\t0x75b6d7e2ba6e21d4852933184f13d3df75aba11e\t103559.2449\t0.020711848980000003%\n",
      "14\t0x2718874048abccebe24693e689d31b011c6101ea\t100000.0\t0.02%\n",
      "15\t0xead6be34ce315940264519f250d8160f369fa5cd\t83000.87992\t0.016600175984%\n",
      "16\t0x8840c37e89eb4e7a9114ac60e4c77b191b360fd3\t83000.87992\t0.016600175984%\n",
      "17\t0x8d12a197cb00d4747a1fe03395095ce2a5cc6819\t51963.97554\t0.010392795108%\n",
      "18\t0xead6be34ce315940264519f250d8160f369fa5cd\t48190.42279\t0.009638084557999999%\n",
      "19\t0xfcf44f56b795329116dbaea243157fc354597be4\t48190.42279\t0.009638084557999999%\n",
      "20\t0xea20f110f3a36bdb45525bbc561ed147fac46c99\t45942.66595\t0.00918853319%\n",
      "21\t0x318977a482d42e231fb235522eb067bfe5ef3168\t45462.48239\t0.009092496478%\n",
      "22\t0x94d4a0de64654e534930dba01e26fa4e6cc72bc9\t39441.5046\t0.00788830092%\n",
      "23\t0x072de783e079b5947f5a55ee9b273b8ae03e69b7\t39441.5046\t0.00788830092%\n",
      "24\t0xead6be34ce315940264519f250d8160f369fa5cd\t39441.50389\t0.007888300778%\n",
      "25\t0xd60b41ee72e16bfbe7b52b5963f13f065fcbd4ab\t39441.50389\t0.007888300778%\n",
      "26\t0x5e575279bf9f4acf0a130c186861454247394c06\t39441.50389\t0.007888300778%\n",
      "27\t0xc1cf5916f747093a4ea096a4381840321d1280fc\t39441.50389\t0.007888300778%\n",
      "28\t0xa69a18290ac48f055f006bed985a81bff2231d43\t39441.50389\t0.007888300778%\n",
      "29\t0xdd83ba15c2f2b39b09328bd6b38db2c29b096c3f\t39441.50389\t0.007888300778%\n",
      "30\t0xead6be34ce315940264519f250d8160f369fa5cd\t39441.50389\t0.007888300778%\n",
      "31\t0xad64261fe58b9142e384289515aebcc456dd7417\t38952.2965\t0.007790459299999999%\n",
      "32\t0x45d9663688199fc4664c856f3fdfb9f24242e65c\t35441.25\t0.00708825%\n",
      "33\t0xb72b96ad77867cb4d56b21ba92339b3b5c9404fc\t28215.18612\t0.005643037224%\n",
      "34\t0xead6be34ce315940264519f250d8160f369fa5cd\t28215.18612\t0.005643037224%\n",
      "35\t0xbfcaccccee1ffd6ce9d43ab8b35eabc88e927735\t25582.3675\t0.0051164735000000005%\n",
      "36\t0xa277c67ca954582d6da335b567acd73b02eba6d6\t23243.30997\t0.004648661994%\n",
      "37\t0x8d12a197cb00d4747a1fe03395095ce2a5cc6819\t22441.0\t0.0044882%\n",
      "38\t0xead6be34ce315940264519f250d8160f369fa5cd\t21538.934\t0.0043077868%\n",
      "39\t0x123464e0dc71312e10bb34107288d91ec180e2fe\t21538.934\t0.0043077868%\n",
      "40\t0xf3bc4aebfa8f3a0967d519c0c10c627904f9d1aa\t21505.0\t0.004301%\n",
      "41\t0xead6be34ce315940264519f250d8160f369fa5cd\t20833.333\t0.0041666666%\n",
      "42\t0xbf1ed5997d7c87bc9ada0d08b281bd4eb7a4578a\t20833.333\t0.0041666666%\n",
      "43\t0x5e575279bf9f4acf0a130c186861454247394c06\t20000.0\t0.004%\n",
      "44\t0x921be5086f5008cfc0dcbd6287c65fbf45b4899f\t20000.0\t0.004%\n",
      "45\t0x5e575279bf9f4acf0a130c186861454247394c06\t19441.50389\t0.003888300778%\n",
      "46\t0xda8b86cffcc04fe55b01ab985fa14f2217e243d4\t19441.50389\t0.003888300778%\n",
      "47\t0xc8621cf4382013ed0a5a2a5364ab181059d0897e\t19055.01571\t0.0038110031419999997%\n",
      "48\t0x94d4a0de64654e534930dba01e26fa4e6cc72bc9\t19000.0\t0.0038%\n",
      "49\t0x2d7eac78a4b0136b3439a27831864370573f7c52\t19000.0\t0.0038%\n",
      "50\t0xead6be34ce315940264519f250d8160f369fa5cd\t18852.297\t0.0037704593999999996%\n"
     ]
    }
   ],
   "source": [
    "generate_table(all_the_records,\"20/8/2017 00\")"
   ]
  },
  {
   "cell_type": "code",
   "execution_count": null,
   "metadata": {
    "collapsed": true,
    "deletable": true,
    "editable": true
   },
   "outputs": [],
   "source": []
  }
 ],
 "metadata": {
  "kernelspec": {
   "display_name": "Python 3",
   "language": "python",
   "name": "python3"
  },
  "language_info": {
   "codemirror_mode": {
    "name": "ipython",
    "version": 3
   },
   "file_extension": ".py",
   "mimetype": "text/x-python",
   "name": "python",
   "nbconvert_exporter": "python",
   "pygments_lexer": "ipython3",
   "version": "3.6.1"
  }
 },
 "nbformat": 4,
 "nbformat_minor": 2
}
